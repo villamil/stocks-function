{
 "cells": [
  {
   "cell_type": "code",
   "execution_count": 13,
   "metadata": {},
   "outputs": [],
   "source": [
    "from IPython.core.debugger import set_trace\n",
    "\n",
    "\n",
    "import pandas as pd\n",
    "import numpy as np\n",
    "import os\n",
    "import matplotlib.pyplot as plt\n",
    "import time\n",
    "\n",
    "plt.style.use(style=\"seaborn\")\n",
    "%matplotlib inline"
   ]
  },
  {
   "cell_type": "code",
   "execution_count": 14,
   "metadata": {},
   "outputs": [],
   "source": [
    "df = pd.read_csv(\"time_series-TSLA-4h.csv\", sep=\";\")"
   ]
  },
  {
   "cell_type": "code",
   "execution_count": 15,
   "metadata": {},
   "outputs": [
    {
     "name": "stdout",
     "output_type": "stream",
     "text": [
      "<class 'pandas.core.frame.DataFrame'>\n",
      "RangeIndex: 1576 entries, 0 to 1575\n",
      "Data columns (total 6 columns):\n",
      " #   Column  Non-Null Count  Dtype  \n",
      "---  ------  --------------  -----  \n",
      " 0   date    1576 non-null   object \n",
      " 1   open    1576 non-null   float64\n",
      " 2   high    1576 non-null   float64\n",
      " 3   low     1576 non-null   float64\n",
      " 4   close   1576 non-null   float64\n",
      " 5   volume  1576 non-null   int64  \n",
      "dtypes: float64(4), int64(1), object(1)\n",
      "memory usage: 74.0+ KB\n"
     ]
    }
   ],
   "source": [
    "df.info()"
   ]
  },
  {
   "cell_type": "code",
   "execution_count": 16,
   "metadata": {},
   "outputs": [
    {
     "data": {
      "text/html": [
       "<div>\n",
       "<style scoped>\n",
       "    .dataframe tbody tr th:only-of-type {\n",
       "        vertical-align: middle;\n",
       "    }\n",
       "\n",
       "    .dataframe tbody tr th {\n",
       "        vertical-align: top;\n",
       "    }\n",
       "\n",
       "    .dataframe thead th {\n",
       "        text-align: right;\n",
       "    }\n",
       "</style>\n",
       "<table border=\"1\" class=\"dataframe\">\n",
       "  <thead>\n",
       "    <tr style=\"text-align: right;\">\n",
       "      <th></th>\n",
       "      <th>date</th>\n",
       "      <th>open</th>\n",
       "      <th>high</th>\n",
       "      <th>low</th>\n",
       "      <th>close</th>\n",
       "      <th>volume</th>\n",
       "    </tr>\n",
       "  </thead>\n",
       "  <tbody>\n",
       "    <tr>\n",
       "      <th>0</th>\n",
       "      <td>2022-04-19 13:30:00</td>\n",
       "      <td>1020.77002</td>\n",
       "      <td>1029.63000</td>\n",
       "      <td>1017.78003</td>\n",
       "      <td>1028.09998</td>\n",
       "      <td>4854434</td>\n",
       "    </tr>\n",
       "    <tr>\n",
       "      <th>1</th>\n",
       "      <td>2022-04-19 09:30:00</td>\n",
       "      <td>1005.06000</td>\n",
       "      <td>1034.93994</td>\n",
       "      <td>995.72742</td>\n",
       "      <td>1020.47498</td>\n",
       "      <td>10964970</td>\n",
       "    </tr>\n",
       "    <tr>\n",
       "      <th>2</th>\n",
       "      <td>2022-04-18 13:30:00</td>\n",
       "      <td>994.98993</td>\n",
       "      <td>1014.91998</td>\n",
       "      <td>994.07001</td>\n",
       "      <td>1004.70001</td>\n",
       "      <td>5399546</td>\n",
       "    </tr>\n",
       "    <tr>\n",
       "      <th>3</th>\n",
       "      <td>2022-04-18 09:30:00</td>\n",
       "      <td>989.03003</td>\n",
       "      <td>1009.61987</td>\n",
       "      <td>974.00000</td>\n",
       "      <td>994.61011</td>\n",
       "      <td>11192470</td>\n",
       "    </tr>\n",
       "    <tr>\n",
       "      <th>4</th>\n",
       "      <td>2022-04-14 13:30:00</td>\n",
       "      <td>985.06000</td>\n",
       "      <td>998.00000</td>\n",
       "      <td>984.07501</td>\n",
       "      <td>984.96002</td>\n",
       "      <td>17966136</td>\n",
       "    </tr>\n",
       "  </tbody>\n",
       "</table>\n",
       "</div>"
      ],
      "text/plain": [
       "                  date        open        high         low       close  \\\n",
       "0  2022-04-19 13:30:00  1020.77002  1029.63000  1017.78003  1028.09998   \n",
       "1  2022-04-19 09:30:00  1005.06000  1034.93994   995.72742  1020.47498   \n",
       "2  2022-04-18 13:30:00   994.98993  1014.91998   994.07001  1004.70001   \n",
       "3  2022-04-18 09:30:00   989.03003  1009.61987   974.00000   994.61011   \n",
       "4  2022-04-14 13:30:00   985.06000   998.00000   984.07501   984.96002   \n",
       "\n",
       "     volume  \n",
       "0   4854434  \n",
       "1  10964970  \n",
       "2   5399546  \n",
       "3  11192470  \n",
       "4  17966136  "
      ]
     },
     "execution_count": 16,
     "metadata": {},
     "output_type": "execute_result"
    }
   ],
   "source": [
    "df.head()"
   ]
  },
  {
   "cell_type": "code",
   "execution_count": 17,
   "metadata": {},
   "outputs": [],
   "source": [
    "df = df.sort_values(by='date')"
   ]
  },
  {
   "cell_type": "code",
   "execution_count": 18,
   "metadata": {},
   "outputs": [],
   "source": [
    "df.set_index(\"date\", drop=True, inplace=True)"
   ]
  },
  {
   "cell_type": "markdown",
   "metadata": {},
   "source": [
    "We'll use only the close feature."
   ]
  },
  {
   "cell_type": "code",
   "execution_count": 19,
   "metadata": {},
   "outputs": [],
   "source": [
    "df = df[[\"close\"]]"
   ]
  },
  {
   "cell_type": "code",
   "execution_count": 20,
   "metadata": {},
   "outputs": [
    {
     "data": {
      "text/plain": [
       "False"
      ]
     },
     "execution_count": 20,
     "metadata": {},
     "output_type": "execute_result"
    }
   ],
   "source": [
    "type(df[\"close\"]) == type(df[[\"close\"]])"
   ]
  },
  {
   "cell_type": "code",
   "execution_count": 21,
   "metadata": {},
   "outputs": [
    {
     "data": {
      "text/plain": [
       "pandas.core.frame.DataFrame"
      ]
     },
     "execution_count": 21,
     "metadata": {},
     "output_type": "execute_result"
    }
   ],
   "source": [
    "type(df[[\"close\"]])"
   ]
  },
  {
   "cell_type": "code",
   "execution_count": 22,
   "metadata": {},
   "outputs": [
    {
     "data": {
      "text/html": [
       "<div>\n",
       "<style scoped>\n",
       "    .dataframe tbody tr th:only-of-type {\n",
       "        vertical-align: middle;\n",
       "    }\n",
       "\n",
       "    .dataframe tbody tr th {\n",
       "        vertical-align: top;\n",
       "    }\n",
       "\n",
       "    .dataframe thead th {\n",
       "        text-align: right;\n",
       "    }\n",
       "</style>\n",
       "<table border=\"1\" class=\"dataframe\">\n",
       "  <thead>\n",
       "    <tr style=\"text-align: right;\">\n",
       "      <th></th>\n",
       "      <th>close</th>\n",
       "    </tr>\n",
       "  </thead>\n",
       "  <tbody>\n",
       "    <tr>\n",
       "      <th>count</th>\n",
       "      <td>1576.000000</td>\n",
       "    </tr>\n",
       "    <tr>\n",
       "      <th>mean</th>\n",
       "      <td>447.880798</td>\n",
       "    </tr>\n",
       "    <tr>\n",
       "      <th>std</th>\n",
       "      <td>353.429081</td>\n",
       "    </tr>\n",
       "    <tr>\n",
       "      <th>min</th>\n",
       "      <td>42.278000</td>\n",
       "    </tr>\n",
       "    <tr>\n",
       "      <th>25%</th>\n",
       "      <td>90.882000</td>\n",
       "    </tr>\n",
       "    <tr>\n",
       "      <th>50%</th>\n",
       "      <td>417.530345</td>\n",
       "    </tr>\n",
       "    <tr>\n",
       "      <th>75%</th>\n",
       "      <td>732.011260</td>\n",
       "    </tr>\n",
       "    <tr>\n",
       "      <th>max</th>\n",
       "      <td>1235.579960</td>\n",
       "    </tr>\n",
       "  </tbody>\n",
       "</table>\n",
       "</div>"
      ],
      "text/plain": [
       "             close\n",
       "count  1576.000000\n",
       "mean    447.880798\n",
       "std     353.429081\n",
       "min      42.278000\n",
       "25%      90.882000\n",
       "50%     417.530345\n",
       "75%     732.011260\n",
       "max    1235.579960"
      ]
     },
     "execution_count": 22,
     "metadata": {},
     "output_type": "execute_result"
    }
   ],
   "source": [
    "df.describe()"
   ]
  },
  {
   "cell_type": "code",
   "execution_count": 23,
   "metadata": {},
   "outputs": [
    {
     "data": {
      "image/png": "[encoded data removed]",
      "text/plain": [
       "<Figure size 1152x432 with 1 Axes>"
      ]
     },
     "metadata": {
      "needs_background": "light"
     },
     "output_type": "display_data"
    }
   ],
   "source": [
    "plt.figure(1, figsize=(16, 6))\n",
    "_ = plt.plot(df.close)"
   ]
  },
  {
   "cell_type": "markdown",
   "metadata": {},
   "source": [
    "Calculate the percentage change.\n",
    "\n",
    "The reason for using pct_change instead of the prices is the benefit of normalization as we can measure all variables in a comparable metric. Also returns have more manageable statistical properties than prices such as stationarity, as in most cases we don't have stationary prices but we can have stationary returns.\n",
    "\n",
    "A stationary time series is one where statistical properties such as mean, variance, correlation, etc are constant over time.\n",
    "For more details on stationarity: https://en.wikipedia.org/wiki/Stationary_process"
   ]
  },
  {
   "cell_type": "code",
   "execution_count": 24,
   "metadata": {},
   "outputs": [],
   "source": [
    "df[\"returns\"] = df.close.pct_change()"
   ]
  },
  {
   "cell_type": "code",
   "execution_count": 25,
   "metadata": {},
   "outputs": [
    {
     "data": {
      "text/html": [
       "<div>\n",
       "<style scoped>\n",
       "    .dataframe tbody tr th:only-of-type {\n",
       "        vertical-align: middle;\n",
       "    }\n",
       "\n",
       "    .dataframe tbody tr th {\n",
       "        vertical-align: top;\n",
       "    }\n",
       "\n",
       "    .dataframe thead th {\n",
       "        text-align: right;\n",
       "    }\n",
       "</style>\n",
       "<table border=\"1\" class=\"dataframe\">\n",
       "  <thead>\n",
       "    <tr style=\"text-align: right;\">\n",
       "      <th></th>\n",
       "      <th>close</th>\n",
       "      <th>returns</th>\n",
       "    </tr>\n",
       "    <tr>\n",
       "      <th>date</th>\n",
       "      <th></th>\n",
       "      <th></th>\n",
       "    </tr>\n",
       "  </thead>\n",
       "  <tbody>\n",
       "    <tr>\n",
       "      <th>2019-06-20 08:00:00</th>\n",
       "      <td>43.75600</td>\n",
       "      <td>NaN</td>\n",
       "    </tr>\n",
       "    <tr>\n",
       "      <th>2019-06-20 12:00:00</th>\n",
       "      <td>43.87544</td>\n",
       "      <td>0.002730</td>\n",
       "    </tr>\n",
       "    <tr>\n",
       "      <th>2019-06-20 16:00:00</th>\n",
       "      <td>43.91800</td>\n",
       "      <td>0.000970</td>\n",
       "    </tr>\n",
       "    <tr>\n",
       "      <th>2019-06-21 08:00:00</th>\n",
       "      <td>43.80800</td>\n",
       "      <td>-0.002505</td>\n",
       "    </tr>\n",
       "    <tr>\n",
       "      <th>2019-06-21 12:00:00</th>\n",
       "      <td>44.24400</td>\n",
       "      <td>0.009953</td>\n",
       "    </tr>\n",
       "  </tbody>\n",
       "</table>\n",
       "</div>"
      ],
      "text/plain": [
       "                        close   returns\n",
       "date                                   \n",
       "2019-06-20 08:00:00  43.75600       NaN\n",
       "2019-06-20 12:00:00  43.87544  0.002730\n",
       "2019-06-20 16:00:00  43.91800  0.000970\n",
       "2019-06-21 08:00:00  43.80800 -0.002505\n",
       "2019-06-21 12:00:00  44.24400  0.009953"
      ]
     },
     "execution_count": 25,
     "metadata": {},
     "output_type": "execute_result"
    }
   ],
   "source": [
    "df.head(5)"
   ]
  },
  {
   "cell_type": "code",
   "execution_count": 26,
   "metadata": {},
   "outputs": [
    {
     "data": {
      "text/plain": [
       "-0.002722251902203099"
      ]
     },
     "execution_count": 26,
     "metadata": {},
     "output_type": "execute_result"
    }
   ],
   "source": [
    "43.75600 / 43.87544 - 1"
   ]
  },
  {
   "cell_type": "markdown",
   "metadata": {},
   "source": [
    "Calculate the log returns.\n",
    "\n",
    "Why use log returns: https://quantivity.wordpress.com/2011/02/21/why-log-returns/"
   ]
  },
  {
   "cell_type": "code",
   "execution_count": 27,
   "metadata": {},
   "outputs": [],
   "source": [
    "df[\"log_returns\"] = np.log(1 + df[\"returns\"])"
   ]
  },
  {
   "cell_type": "code",
   "execution_count": 28,
   "metadata": {},
   "outputs": [
    {
     "data": {
      "text/html": [
       "<div>\n",
       "<style scoped>\n",
       "    .dataframe tbody tr th:only-of-type {\n",
       "        vertical-align: middle;\n",
       "    }\n",
       "\n",
       "    .dataframe tbody tr th {\n",
       "        vertical-align: top;\n",
       "    }\n",
       "\n",
       "    .dataframe thead th {\n",
       "        text-align: right;\n",
       "    }\n",
       "</style>\n",
       "<table border=\"1\" class=\"dataframe\">\n",
       "  <thead>\n",
       "    <tr style=\"text-align: right;\">\n",
       "      <th></th>\n",
       "      <th>close</th>\n",
       "      <th>returns</th>\n",
       "      <th>log_returns</th>\n",
       "    </tr>\n",
       "    <tr>\n",
       "      <th>date</th>\n",
       "      <th></th>\n",
       "      <th></th>\n",
       "      <th></th>\n",
       "    </tr>\n",
       "  </thead>\n",
       "  <tbody>\n",
       "    <tr>\n",
       "      <th>2019-06-20 08:00:00</th>\n",
       "      <td>43.75600</td>\n",
       "      <td>NaN</td>\n",
       "      <td>NaN</td>\n",
       "    </tr>\n",
       "    <tr>\n",
       "      <th>2019-06-20 12:00:00</th>\n",
       "      <td>43.87544</td>\n",
       "      <td>0.002730</td>\n",
       "      <td>0.002726</td>\n",
       "    </tr>\n",
       "    <tr>\n",
       "      <th>2019-06-20 16:00:00</th>\n",
       "      <td>43.91800</td>\n",
       "      <td>0.000970</td>\n",
       "      <td>0.000970</td>\n",
       "    </tr>\n",
       "    <tr>\n",
       "      <th>2019-06-21 08:00:00</th>\n",
       "      <td>43.80800</td>\n",
       "      <td>-0.002505</td>\n",
       "      <td>-0.002508</td>\n",
       "    </tr>\n",
       "    <tr>\n",
       "      <th>2019-06-21 12:00:00</th>\n",
       "      <td>44.24400</td>\n",
       "      <td>0.009953</td>\n",
       "      <td>0.009903</td>\n",
       "    </tr>\n",
       "  </tbody>\n",
       "</table>\n",
       "</div>"
      ],
      "text/plain": [
       "                        close   returns  log_returns\n",
       "date                                                \n",
       "2019-06-20 08:00:00  43.75600       NaN          NaN\n",
       "2019-06-20 12:00:00  43.87544  0.002730     0.002726\n",
       "2019-06-20 16:00:00  43.91800  0.000970     0.000970\n",
       "2019-06-21 08:00:00  43.80800 -0.002505    -0.002508\n",
       "2019-06-21 12:00:00  44.24400  0.009953     0.009903"
      ]
     },
     "execution_count": 28,
     "metadata": {},
     "output_type": "execute_result"
    }
   ],
   "source": [
    "df.head(5)"
   ]
  },
  {
   "cell_type": "code",
   "execution_count": 29,
   "metadata": {},
   "outputs": [
    {
     "data": {
      "text/plain": [
       "[<matplotlib.lines.Line2D at 0x1721932e0>]"
      ]
     },
     "execution_count": 29,
     "metadata": {},
     "output_type": "execute_result"
    },
    {
     "data": {
      "image/png": "[encoded data removed]",
      "text/plain": [
       "<Figure size 1152x288 with 1 Axes>"
      ]
     },
     "metadata": {
      "needs_background": "light"
     },
     "output_type": "display_data"
    }
   ],
   "source": [
    "plt.figure(1, figsize=(16, 4))\n",
    "plt.plot(df.log_returns)"
   ]
  },
  {
   "cell_type": "code",
   "execution_count": 30,
   "metadata": {},
   "outputs": [],
   "source": [
    "df.dropna(inplace=True)\n",
    "X = df[[\"close\", \"log_returns\"]].values"
   ]
  },
  {
   "cell_type": "code",
   "execution_count": 69,
   "metadata": {},
   "outputs": [
    {
     "data": {
      "text/html": [
       "<div>\n",
       "<style scoped>\n",
       "    .dataframe tbody tr th:only-of-type {\n",
       "        vertical-align: middle;\n",
       "    }\n",
       "\n",
       "    .dataframe tbody tr th {\n",
       "        vertical-align: top;\n",
       "    }\n",
       "\n",
       "    .dataframe thead th {\n",
       "        text-align: right;\n",
       "    }\n",
       "</style>\n",
       "<table border=\"1\" class=\"dataframe\">\n",
       "  <thead>\n",
       "    <tr style=\"text-align: right;\">\n",
       "      <th></th>\n",
       "      <th>close</th>\n",
       "      <th>returns</th>\n",
       "      <th>log_returns</th>\n",
       "    </tr>\n",
       "    <tr>\n",
       "      <th>date</th>\n",
       "      <th></th>\n",
       "      <th></th>\n",
       "      <th></th>\n",
       "    </tr>\n",
       "  </thead>\n",
       "  <tbody>\n",
       "    <tr>\n",
       "      <th>2019-06-20 12:00:00</th>\n",
       "      <td>43.87544</td>\n",
       "      <td>0.002730</td>\n",
       "      <td>0.002726</td>\n",
       "    </tr>\n",
       "    <tr>\n",
       "      <th>2019-06-20 16:00:00</th>\n",
       "      <td>43.91800</td>\n",
       "      <td>0.000970</td>\n",
       "      <td>0.000970</td>\n",
       "    </tr>\n",
       "    <tr>\n",
       "      <th>2019-06-21 08:00:00</th>\n",
       "      <td>43.80800</td>\n",
       "      <td>-0.002505</td>\n",
       "      <td>-0.002508</td>\n",
       "    </tr>\n",
       "    <tr>\n",
       "      <th>2019-06-21 12:00:00</th>\n",
       "      <td>44.24400</td>\n",
       "      <td>0.009953</td>\n",
       "      <td>0.009903</td>\n",
       "    </tr>\n",
       "    <tr>\n",
       "      <th>2019-06-21 16:00:00</th>\n",
       "      <td>44.37800</td>\n",
       "      <td>0.003029</td>\n",
       "      <td>0.003024</td>\n",
       "    </tr>\n",
       "    <tr>\n",
       "      <th>...</th>\n",
       "      <td>...</td>\n",
       "      <td>...</td>\n",
       "      <td>...</td>\n",
       "    </tr>\n",
       "    <tr>\n",
       "      <th>2022-04-14 13:30:00</th>\n",
       "      <td>984.96002</td>\n",
       "      <td>-0.000517</td>\n",
       "      <td>-0.000518</td>\n",
       "    </tr>\n",
       "    <tr>\n",
       "      <th>2022-04-18 09:30:00</th>\n",
       "      <td>994.61011</td>\n",
       "      <td>0.009797</td>\n",
       "      <td>0.009750</td>\n",
       "    </tr>\n",
       "    <tr>\n",
       "      <th>2022-04-18 13:30:00</th>\n",
       "      <td>1004.70001</td>\n",
       "      <td>0.010145</td>\n",
       "      <td>0.010093</td>\n",
       "    </tr>\n",
       "    <tr>\n",
       "      <th>2022-04-19 09:30:00</th>\n",
       "      <td>1020.47498</td>\n",
       "      <td>0.015701</td>\n",
       "      <td>0.015579</td>\n",
       "    </tr>\n",
       "    <tr>\n",
       "      <th>2022-04-19 13:30:00</th>\n",
       "      <td>1028.09998</td>\n",
       "      <td>0.007472</td>\n",
       "      <td>0.007444</td>\n",
       "    </tr>\n",
       "  </tbody>\n",
       "</table>\n",
       "<p>1575 rows × 3 columns</p>\n",
       "</div>"
      ],
      "text/plain": [
       "                          close   returns  log_returns\n",
       "date                                                  \n",
       "2019-06-20 12:00:00    43.87544  0.002730     0.002726\n",
       "2019-06-20 16:00:00    43.91800  0.000970     0.000970\n",
       "2019-06-21 08:00:00    43.80800 -0.002505    -0.002508\n",
       "2019-06-21 12:00:00    44.24400  0.009953     0.009903\n",
       "2019-06-21 16:00:00    44.37800  0.003029     0.003024\n",
       "...                         ...       ...          ...\n",
       "2022-04-14 13:30:00   984.96002 -0.000517    -0.000518\n",
       "2022-04-18 09:30:00   994.61011  0.009797     0.009750\n",
       "2022-04-18 13:30:00  1004.70001  0.010145     0.010093\n",
       "2022-04-19 09:30:00  1020.47498  0.015701     0.015579\n",
       "2022-04-19 13:30:00  1028.09998  0.007472     0.007444\n",
       "\n",
       "[1575 rows x 3 columns]"
      ]
     },
     "execution_count": 69,
     "metadata": {},
     "output_type": "execute_result"
    }
   ],
   "source": [
    "df"
   ]
  },
  {
   "cell_type": "code",
   "execution_count": 65,
   "metadata": {},
   "outputs": [
    {
     "data": {
      "text/plain": [
       "array([[ 4.38754400e+01,  2.72596397e-03],\n",
       "       [ 4.39180000e+01,  9.69548598e-04],\n",
       "       [ 4.38080000e+01, -2.50780972e-03],\n",
       "       ...,\n",
       "       [ 1.00470001e+03,  1.00934673e-02],\n",
       "       [ 1.02047498e+03,  1.55791861e-02],\n",
       "       [ 1.02809998e+03,  7.44423354e-03]])"
      ]
     },
     "execution_count": 65,
     "metadata": {},
     "output_type": "execute_result"
    }
   ],
   "source": [
    "X"
   ]
  },
  {
   "cell_type": "code",
   "execution_count": 32,
   "metadata": {},
   "outputs": [],
   "source": [
    "from sklearn.preprocessing import MinMaxScaler"
   ]
  },
  {
   "cell_type": "code",
   "execution_count": 33,
   "metadata": {},
   "outputs": [],
   "source": [
    "scaler = MinMaxScaler(feature_range=(0, 1)).fit(X)\n",
    "X_scaled = scaler.transform(X)"
   ]
  },
  {
   "cell_type": "code",
   "execution_count": 34,
   "metadata": {},
   "outputs": [
    {
     "data": {
      "text/plain": [
       "array([[0.00133867, 0.54147078],\n",
       "       [0.00137434, 0.53675589],\n",
       "       [0.00128216, 0.52742133],\n",
       "       [0.00164753, 0.56073754],\n",
       "       [0.00175982, 0.54227104]])"
      ]
     },
     "execution_count": 34,
     "metadata": {},
     "output_type": "execute_result"
    }
   ],
   "source": [
    "X_scaled[:5]"
   ]
  },
  {
   "cell_type": "code",
   "execution_count": 35,
   "metadata": {},
   "outputs": [],
   "source": [
    "y = [x[0] for x in X_scaled]"
   ]
  },
  {
   "cell_type": "code",
   "execution_count": 36,
   "metadata": {},
   "outputs": [
    {
     "data": {
      "text/plain": [
       "[0.0013386720658700654,\n",
       " 0.0013743378080096347,\n",
       " 0.0012821566135699583,\n",
       " 0.001647529347894472,\n",
       " 0.0017598228029391608]"
      ]
     },
     "execution_count": 36,
     "metadata": {},
     "output_type": "execute_result"
    }
   ],
   "source": [
    "y[:5]"
   ]
  },
  {
   "cell_type": "markdown",
   "metadata": {},
   "source": [
    "#### Train test split"
   ]
  },
  {
   "cell_type": "code",
   "execution_count": 37,
   "metadata": {},
   "outputs": [
    {
     "name": "stdout",
     "output_type": "stream",
     "text": [
      "1260\n"
     ]
    }
   ],
   "source": [
    "split = int(len(X_scaled) * 0.8)\n",
    "print(split)"
   ]
  },
  {
   "cell_type": "code",
   "execution_count": 38,
   "metadata": {},
   "outputs": [],
   "source": [
    "X_train = X_scaled[:split]\n",
    "X_test = X_scaled[split : len(X_scaled)]\n",
    "y_train = y[:split]\n",
    "y_test = y[split : len(y)]"
   ]
  },
  {
   "cell_type": "code",
   "execution_count": 64,
   "metadata": {},
   "outputs": [
    {
     "data": {
      "text/plain": [
       "array([[0.00133867, 0.54147078],\n",
       "       [0.00137434, 0.53675589],\n",
       "       [0.00128216, 0.52742133],\n",
       "       ...,\n",
       "       [0.80652009, 0.56124797],\n",
       "       [0.81973969, 0.57597373],\n",
       "       [0.82612952, 0.55413641]])"
      ]
     },
     "execution_count": 64,
     "metadata": {},
     "output_type": "execute_result"
    }
   ],
   "source": [
    "X_scaled"
   ]
  },
  {
   "cell_type": "code",
   "execution_count": 39,
   "metadata": {},
   "outputs": [],
   "source": [
    "assert len(X_train) == len(y_train)\n",
    "assert len(X_test) == len(y_test)"
   ]
  },
  {
   "cell_type": "code",
   "execution_count": 40,
   "metadata": {},
   "outputs": [
    {
     "data": {
      "text/plain": [
       "array([[0.00133867, 0.54147078],\n",
       "       [0.00137434, 0.53675589],\n",
       "       [0.00128216, 0.52742133],\n",
       "       ...,\n",
       "       [0.58102812, 0.53364238],\n",
       "       [0.5797376 , 0.52852775],\n",
       "       [0.5810784 , 0.53999765]])"
      ]
     },
     "execution_count": 40,
     "metadata": {},
     "output_type": "execute_result"
    }
   ],
   "source": [
    "X_train"
   ]
  },
  {
   "cell_type": "markdown",
   "metadata": {},
   "source": [
    "#### Labeling\n",
    "\n",
    "We want to predict the stock price at a future time. We'll predict the stock price at time t + 1 relative to the stock price at time t."
   ]
  },
  {
   "cell_type": "markdown",
   "metadata": {},
   "source": [
    "As we're going to use an LSTM architecture, we know that it has memory and that it is maintained by setting the time step, basically how many steps in the past we want the LSTM to use.\n",
    "\n",
    "The time step  refers to how many steps in time we want the backpropagation algorithm to use when calculating gradients for weight updates during training.\n",
    "\n",
    "So we can use a method to create both the timestep and the output variable, the t + 1."
   ]
  },
  {
   "cell_type": "code",
   "execution_count": 41,
   "metadata": {},
   "outputs": [],
   "source": [
    "n = 3\n",
    "Xtrain = []\n",
    "ytrain = []\n",
    "Xtest = []\n",
    "ytest = []\n",
    "for i in range(n, len(X_train)):\n",
    "    Xtrain.append(X_train[i - n : i, : X_train.shape[1]])\n",
    "    ytrain.append(y_train[i])  # predict next record\n",
    "for i in range(n, len(X_test)):\n",
    "    Xtest.append(X_test[i - n : i, : X_test.shape[1]])\n",
    "    ytest.append(y_test[i])  # predict next record"
   ]
  },
  {
   "cell_type": "code",
   "execution_count": 42,
   "metadata": {},
   "outputs": [
    {
     "data": {
      "text/html": [
       "<div>\n",
       "<style scoped>\n",
       "    .dataframe tbody tr th:only-of-type {\n",
       "        vertical-align: middle;\n",
       "    }\n",
       "\n",
       "    .dataframe tbody tr th {\n",
       "        vertical-align: top;\n",
       "    }\n",
       "\n",
       "    .dataframe thead th {\n",
       "        text-align: right;\n",
       "    }\n",
       "</style>\n",
       "<table border=\"1\" class=\"dataframe\">\n",
       "  <thead>\n",
       "    <tr style=\"text-align: right;\">\n",
       "      <th></th>\n",
       "      <th>close</th>\n",
       "      <th>returns</th>\n",
       "      <th>log_returns</th>\n",
       "    </tr>\n",
       "    <tr>\n",
       "      <th>date</th>\n",
       "      <th></th>\n",
       "      <th></th>\n",
       "      <th></th>\n",
       "    </tr>\n",
       "  </thead>\n",
       "  <tbody>\n",
       "    <tr>\n",
       "      <th>2019-06-20 12:00:00</th>\n",
       "      <td>43.87544</td>\n",
       "      <td>0.002730</td>\n",
       "      <td>0.002726</td>\n",
       "    </tr>\n",
       "    <tr>\n",
       "      <th>2019-06-20 16:00:00</th>\n",
       "      <td>43.91800</td>\n",
       "      <td>0.000970</td>\n",
       "      <td>0.000970</td>\n",
       "    </tr>\n",
       "    <tr>\n",
       "      <th>2019-06-21 08:00:00</th>\n",
       "      <td>43.80800</td>\n",
       "      <td>-0.002505</td>\n",
       "      <td>-0.002508</td>\n",
       "    </tr>\n",
       "    <tr>\n",
       "      <th>2019-06-21 12:00:00</th>\n",
       "      <td>44.24400</td>\n",
       "      <td>0.009953</td>\n",
       "      <td>0.009903</td>\n",
       "    </tr>\n",
       "    <tr>\n",
       "      <th>2019-06-21 16:00:00</th>\n",
       "      <td>44.37800</td>\n",
       "      <td>0.003029</td>\n",
       "      <td>0.003024</td>\n",
       "    </tr>\n",
       "  </tbody>\n",
       "</table>\n",
       "</div>"
      ],
      "text/plain": [
       "                        close   returns  log_returns\n",
       "date                                                \n",
       "2019-06-20 12:00:00  43.87544  0.002730     0.002726\n",
       "2019-06-20 16:00:00  43.91800  0.000970     0.000970\n",
       "2019-06-21 08:00:00  43.80800 -0.002505    -0.002508\n",
       "2019-06-21 12:00:00  44.24400  0.009953     0.009903\n",
       "2019-06-21 16:00:00  44.37800  0.003029     0.003024"
      ]
     },
     "execution_count": 42,
     "metadata": {},
     "output_type": "execute_result"
    }
   ],
   "source": [
    "df.head(5)"
   ]
  },
  {
   "cell_type": "code",
   "execution_count": 43,
   "metadata": {},
   "outputs": [
    {
     "data": {
      "text/plain": [
       "array([[0.00133867, 0.54147078],\n",
       "       [0.00137434, 0.53675589],\n",
       "       [0.00128216, 0.52742133]])"
      ]
     },
     "execution_count": 43,
     "metadata": {},
     "output_type": "execute_result"
    }
   ],
   "source": [
    "Xtrain[0]"
   ]
  },
  {
   "cell_type": "code",
   "execution_count": 44,
   "metadata": {},
   "outputs": [
    {
     "data": {
      "text/plain": [
       "0.001647529347894472"
      ]
     },
     "execution_count": 44,
     "metadata": {},
     "output_type": "execute_result"
    }
   ],
   "source": [
    "ytrain[0]"
   ]
  },
  {
   "cell_type": "code",
   "execution_count": 45,
   "metadata": {},
   "outputs": [],
   "source": [
    "val = np.array(ytrain[0])\n",
    "val = np.c_[val, np.zeros(val.shape)]"
   ]
  },
  {
   "cell_type": "code",
   "execution_count": 46,
   "metadata": {},
   "outputs": [
    {
     "data": {
      "text/plain": [
       "array([[44.244     , -0.19898558]])"
      ]
     },
     "execution_count": 46,
     "metadata": {},
     "output_type": "execute_result"
    }
   ],
   "source": [
    "scaler.inverse_transform(val)"
   ]
  },
  {
   "cell_type": "markdown",
   "metadata": {},
   "source": [
    "In an LSTM network the input for each LSTM layer needs to contain the following information:\n",
    "- The number of observations\n",
    "- The time steps\n",
    "- The features\n",
    "\n",
    "Therefore we need to add a temporal dimension compared to a classical network:\n",
    "\n",
    "(number of observations, number of steps, number of features per step)"
   ]
  },
  {
   "cell_type": "code",
   "execution_count": 47,
   "metadata": {},
   "outputs": [],
   "source": [
    "Xtrain, ytrain = (np.array(Xtrain), np.array(ytrain))\n",
    "Xtrain = np.reshape(Xtrain, (Xtrain.shape[0], Xtrain.shape[1], Xtrain.shape[2]))\n",
    "\n",
    "Xtest, ytest = (np.array(Xtest), np.array(ytest))\n",
    "Xtest = np.reshape(Xtest, (Xtest.shape[0], Xtest.shape[1], Xtest.shape[2]))"
   ]
  },
  {
   "cell_type": "code",
   "execution_count": 48,
   "metadata": {},
   "outputs": [
    {
     "data": {
      "text/plain": [
       "array([0.5948554 , 0.5955257 , 0.59413467, 0.59632182, 0.59873529,\n",
       "       0.59715145, 0.59534136, 0.58157285, 0.5761425 , 0.58721264,\n",
       "       0.58610656, 0.58850316, 0.59381617, 0.59799784, 0.59502281,\n",
       "       0.59886935, 0.59867662, 0.60131638, 0.57722357, 0.57653639,\n",
       "       0.58390259, 0.58417905, 0.59130214, 0.59470446, 0.59645593,\n",
       "       0.59616259, 0.60693112, 0.61346754, 0.62913002, 0.62777239,\n",
       "       0.6180766 , 0.6161743 , 0.61259598, 0.61931684, 0.62090069,\n",
       "       0.61443122, 0.61056801, 0.61421333, 0.6192415 , 0.61955151,\n",
       "       0.61518545, 0.61872184, 0.61834896, 0.62052358, 0.62440357,\n",
       "       0.62962437, 0.62214093, 0.62281972, 0.62847153, 0.6282249 ,\n",
       "       0.64253814, 0.63977266, 0.64316665, 0.64442366, 0.65044042,\n",
       "       0.65033163, 0.66280113, 0.6710724 , 0.69451164, 0.6937322 ,\n",
       "       0.69731236, 0.68874602, 0.68840236, 0.69012037, 0.71213493,\n",
       "       0.71341706, 0.7227274 , 0.72689229, 0.7976707 , 0.82341438,\n",
       "       0.81182477, 0.81802597, 0.84009306, 0.83430852, 0.86390292,\n",
       "       0.86718367, 0.88790766, 0.89811467, 0.94745675, 0.97812793,\n",
       "       0.94157391, 0.94634224, 0.95102802, 0.98165429, 1.        ,\n",
       "       0.99524854, 0.98944108, 0.98815102, 0.95978387, 0.93895093,\n",
       "       0.83931981, 0.82228308, 0.84307919, 0.85936506, 0.85321624,\n",
       "       0.85580351, 0.82411827, 0.8306548 , 0.79322419, 0.81380241,\n",
       "       0.84287296, 0.8480603 , 0.87525351, 0.87717279, 0.87282274,\n",
       "       0.88334892, 0.89812306, 0.91743925, 0.95634804, 0.93335307,\n",
       "       0.86927726, 0.89376545, 0.90649478, 0.89938008, 0.87294921,\n",
       "       0.87046032, 0.91270447, 0.91758165, 0.9081708 , 0.9238919 ,\n",
       "       0.92183983, 0.88219247, 0.86576747, 0.87347714, 0.82493961,\n",
       "       0.81512643, 0.81241967, 0.80959559, 0.84080729, 0.84592333,\n",
       "       0.85869339, 0.85964996, 0.82133612, 0.80544742, 0.81773412,\n",
       "       0.81656784, 0.76938783, 0.77407229, 0.74978593, 0.76781237,\n",
       "       0.75005492, 0.78241051, 0.75415285, 0.74117197, 0.75847692,\n",
       "       0.7448844 , 0.71979856, 0.71886413, 0.73596376, 0.75106893,\n",
       "       0.79867633, 0.80981347, 0.85873655, 0.85918072, 0.89679065,\n",
       "       0.88106956, 0.8795611 , 0.87672023, 0.87381236, 0.87480954,\n",
       "       0.87762535, 0.8618707 , 0.85939023, 0.85054917, 0.94978645,\n",
       "       0.96989032, 0.93738374, 0.927973  , 0.91784987, 0.87600805,\n",
       "       0.85328948, 0.8568007 , 0.82602896, 0.82512394, 0.8205065 ,\n",
       "       0.85141234, 0.85428666, 0.85654935, 0.88507517, 0.89159492,\n",
       "       0.85414427, 0.82902911, 0.82310431, 0.84438981, 0.83157659,\n",
       "       0.82815754, 0.81173178, 0.79883555, 0.82805698, 0.79938871,\n",
       "       0.76616986, 0.75465559, 0.70567134, 0.74392068, 0.73590929,\n",
       "       0.73419977, 0.76805538, 0.75094321, 0.68091064, 0.65955814,\n",
       "       0.6637817 , 0.67378755, 0.73719981, 0.74964431, 0.74672794,\n",
       "       0.74471679, 0.72414364, 0.72351513, 0.73106556, 0.7117439 ,\n",
       "       0.74069435, 0.73832277, 0.73016055, 0.73938092, 0.73781579,\n",
       "       0.73694003, 0.74944702, 0.74558831, 0.73136729, 0.72259329,\n",
       "       0.70302575, 0.68469846, 0.70258997, 0.69848375, 0.7339316 ,\n",
       "       0.73734231, 0.72315474, 0.73827249, 0.70478556, 0.69901165,\n",
       "       0.66935449, 0.68272911, 0.64127442, 0.65309706, 0.61823582,\n",
       "       0.60484438, 0.59915011, 0.63543177, 0.63604355, 0.64321693,\n",
       "       0.69187173, 0.69447803, 0.68651693, 0.68902258, 0.68837315,\n",
       "       0.70192796, 0.68260349, 0.66790469, 0.67465486, 0.66729296,\n",
       "       0.6503819 , 0.63881737, 0.66668962, 0.65542675, 0.67925967,\n",
       "       0.68436324, 0.64674492, 0.66705834, 0.63965911, 0.6310825 ,\n",
       "       0.60149832, 0.60650367, 0.62507673, 0.63630334, 0.65473109,\n",
       "       0.66869242, 0.68818979, 0.69525738, 0.7186667 , 0.72329724,\n",
       "       0.72877781, 0.73668444, 0.76278431, 0.7977042 , 0.80102274,\n",
       "       0.80151714, 0.80858168, 0.81407892, 0.80529326, 0.81174927,\n",
       "       0.8784382 , 0.87954433, 0.88135446, 0.88602213, 0.89099486,\n",
       "       0.88134607, 0.87828731, 0.86761106, 0.86755244, 0.87344368,\n",
       "       0.92341612, 0.92454557, 0.88884213, 0.87897453, 0.8310738 ,\n",
       "       0.84074448, 0.83088108, 0.85020556, 0.83014588, 0.82420216,\n",
       "       0.7942936 , 0.78241051, 0.80136943, 0.7916454 , 0.81510971,\n",
       "       0.82132774, 0.79040511, 0.78997777, 0.79806465, 0.80652009,\n",
       "       0.81973969, 0.82612952])"
      ]
     },
     "execution_count": 48,
     "metadata": {},
     "output_type": "execute_result"
    }
   ],
   "source": [
    "ytest"
   ]
  },
  {
   "cell_type": "code",
   "execution_count": 49,
   "metadata": {
    "scrolled": true
   },
   "outputs": [
    {
     "name": "stdout",
     "output_type": "stream",
     "text": [
      "(1257, 3, 2)\n",
      "(1257,)\n",
      "---\n",
      "(312, 3, 2)\n",
      "(312,)\n"
     ]
    }
   ],
   "source": [
    "print(Xtrain.shape)\n",
    "print(ytrain.shape)\n",
    "print(\"---\")\n",
    "print(Xtest.shape)\n",
    "print(ytest.shape)"
   ]
  },
  {
   "cell_type": "markdown",
   "metadata": {},
   "source": [
    "#### LSTM Model"
   ]
  },
  {
   "cell_type": "code",
   "execution_count": 50,
   "metadata": {},
   "outputs": [],
   "source": [
    "from keras.models import Sequential\n",
    "from keras.layers import LSTM, Dense"
   ]
  },
  {
   "cell_type": "code",
   "execution_count": 51,
   "metadata": {
    "scrolled": true
   },
   "outputs": [
    {
     "name": "stdout",
     "output_type": "stream",
     "text": [
      "Epoch 1/100\n",
      "79/79 [==============================] - 14s 8ms/step - loss: 0.0440 - val_loss: 0.1177\n",
      "Epoch 2/100\n",
      "79/79 [==============================] - 0s 2ms/step - loss: 0.0177 - val_loss: 0.0331\n",
      "Epoch 3/100\n",
      "79/79 [==============================] - 0s 2ms/step - loss: 0.0056 - val_loss: 0.0044\n",
      "Epoch 4/100\n",
      "79/79 [==============================] - 0s 1ms/step - loss: 7.9764e-04 - val_loss: 6.6228e-04\n",
      "Epoch 5/100\n",
      "79/79 [==============================] - 0s 2ms/step - loss: 2.9966e-04 - val_loss: 7.6041e-04\n",
      "Epoch 6/100\n",
      "79/79 [==============================] - 0s 2ms/step - loss: 2.6978e-04 - val_loss: 7.9228e-04\n",
      "Epoch 7/100\n",
      "79/79 [==============================] - 0s 1ms/step - loss: 2.5378e-04 - val_loss: 7.3926e-04\n",
      "Epoch 8/100\n",
      "79/79 [==============================] - 0s 1ms/step - loss: 2.2240e-04 - val_loss: 7.1083e-04\n",
      "Epoch 9/100\n",
      "79/79 [==============================] - 0s 2ms/step - loss: 2.3918e-04 - val_loss: 6.7675e-04\n",
      "Epoch 10/100\n",
      "79/79 [==============================] - 0s 1ms/step - loss: 2.4932e-04 - val_loss: 6.8352e-04\n",
      "Epoch 11/100\n",
      "79/79 [==============================] - 0s 1ms/step - loss: 2.2444e-04 - val_loss: 6.8267e-04\n",
      "Epoch 12/100\n",
      "79/79 [==============================] - 0s 1ms/step - loss: 2.2593e-04 - val_loss: 6.8887e-04\n",
      "Epoch 13/100\n",
      "79/79 [==============================] - 0s 2ms/step - loss: 2.1947e-04 - val_loss: 6.7181e-04\n",
      "Epoch 14/100\n",
      "79/79 [==============================] - 0s 2ms/step - loss: 2.1333e-04 - val_loss: 6.7520e-04\n",
      "Epoch 15/100\n",
      "79/79 [==============================] - 0s 2ms/step - loss: 1.9593e-04 - val_loss: 6.7944e-04\n",
      "Epoch 16/100\n",
      "79/79 [==============================] - 0s 2ms/step - loss: 2.1608e-04 - val_loss: 6.8708e-04\n",
      "Epoch 17/100\n",
      "79/79 [==============================] - 0s 1ms/step - loss: 1.9025e-04 - val_loss: 7.0327e-04\n",
      "Epoch 18/100\n",
      "79/79 [==============================] - 0s 2ms/step - loss: 1.8261e-04 - val_loss: 7.0927e-04\n",
      "Epoch 19/100\n",
      "79/79 [==============================] - 0s 1ms/step - loss: 1.9117e-04 - val_loss: 7.7112e-04\n",
      "Epoch 20/100\n",
      "79/79 [==============================] - 0s 2ms/step - loss: 1.8300e-04 - val_loss: 7.3443e-04\n",
      "Epoch 21/100\n",
      "79/79 [==============================] - 0s 1ms/step - loss: 1.9114e-04 - val_loss: 7.9151e-04\n",
      "Epoch 22/100\n",
      "79/79 [==============================] - 0s 2ms/step - loss: 1.5707e-04 - val_loss: 7.8664e-04\n",
      "Epoch 23/100\n",
      "79/79 [==============================] - 0s 2ms/step - loss: 1.6161e-04 - val_loss: 9.0649e-04\n",
      "Epoch 24/100\n",
      "79/79 [==============================] - 0s 1ms/step - loss: 1.7379e-04 - val_loss: 9.3658e-04\n",
      "Epoch 25/100\n",
      "79/79 [==============================] - 0s 1ms/step - loss: 1.3931e-04 - val_loss: 0.0011\n",
      "Epoch 26/100\n",
      "79/79 [==============================] - 0s 2ms/step - loss: 1.6542e-04 - val_loss: 0.0011\n",
      "Epoch 27/100\n",
      "79/79 [==============================] - 0s 2ms/step - loss: 1.4385e-04 - val_loss: 0.0011\n",
      "Epoch 28/100\n",
      "79/79 [==============================] - 0s 2ms/step - loss: 1.3823e-04 - val_loss: 0.0011\n",
      "Epoch 29/100\n",
      "79/79 [==============================] - 0s 2ms/step - loss: 1.3536e-04 - val_loss: 0.0013\n",
      "Epoch 30/100\n",
      "79/79 [==============================] - 0s 1ms/step - loss: 1.3402e-04 - val_loss: 0.0012\n",
      "Epoch 31/100\n",
      "79/79 [==============================] - 0s 2ms/step - loss: 1.1828e-04 - val_loss: 0.0013\n",
      "Epoch 32/100\n",
      "79/79 [==============================] - 0s 2ms/step - loss: 1.3072e-04 - val_loss: 0.0013\n",
      "Epoch 33/100\n",
      "79/79 [==============================] - 0s 2ms/step - loss: 1.1305e-04 - val_loss: 0.0011\n",
      "Epoch 34/100\n",
      "79/79 [==============================] - 0s 1ms/step - loss: 1.1125e-04 - val_loss: 0.0015\n",
      "Epoch 35/100\n",
      "79/79 [==============================] - 0s 2ms/step - loss: 1.2521e-04 - val_loss: 0.0015\n",
      "Epoch 36/100\n",
      "79/79 [==============================] - 0s 2ms/step - loss: 1.1560e-04 - val_loss: 0.0013\n",
      "Epoch 37/100\n",
      "79/79 [==============================] - 0s 2ms/step - loss: 1.1954e-04 - val_loss: 0.0014\n",
      "Epoch 38/100\n",
      "79/79 [==============================] - 0s 2ms/step - loss: 9.9170e-05 - val_loss: 0.0012\n",
      "Epoch 39/100\n",
      "79/79 [==============================] - 0s 2ms/step - loss: 1.2711e-04 - val_loss: 0.0013\n",
      "Epoch 40/100\n",
      "79/79 [==============================] - 0s 1ms/step - loss: 1.3044e-04 - val_loss: 0.0020\n",
      "Epoch 41/100\n",
      "79/79 [==============================] - 0s 1ms/step - loss: 1.3455e-04 - val_loss: 0.0015\n",
      "Epoch 42/100\n",
      "79/79 [==============================] - 0s 1ms/step - loss: 1.0270e-04 - val_loss: 0.0016\n",
      "Epoch 43/100\n",
      "79/79 [==============================] - 0s 2ms/step - loss: 1.1522e-04 - val_loss: 0.0018\n",
      "Epoch 44/100\n",
      "79/79 [==============================] - 0s 2ms/step - loss: 1.3069e-04 - val_loss: 0.0016\n",
      "Epoch 45/100\n",
      "79/79 [==============================] - 0s 1ms/step - loss: 1.1040e-04 - val_loss: 0.0017\n",
      "Epoch 46/100\n",
      "79/79 [==============================] - 0s 2ms/step - loss: 9.0202e-05 - val_loss: 0.0016\n",
      "Epoch 47/100\n",
      "79/79 [==============================] - 0s 2ms/step - loss: 9.6705e-05 - val_loss: 0.0021\n",
      "Epoch 48/100\n",
      "79/79 [==============================] - 0s 1ms/step - loss: 1.0768e-04 - val_loss: 0.0013\n",
      "Epoch 49/100\n",
      "79/79 [==============================] - 0s 1ms/step - loss: 1.0387e-04 - val_loss: 0.0021\n",
      "Epoch 50/100\n",
      "79/79 [==============================] - 0s 2ms/step - loss: 1.1921e-04 - val_loss: 0.0018\n",
      "Epoch 51/100\n",
      "79/79 [==============================] - 0s 1ms/step - loss: 1.0574e-04 - val_loss: 0.0019\n",
      "Epoch 52/100\n",
      "79/79 [==============================] - 0s 2ms/step - loss: 1.0062e-04 - val_loss: 0.0016\n",
      "Epoch 53/100\n",
      "79/79 [==============================] - 0s 2ms/step - loss: 9.6904e-05 - val_loss: 0.0017\n",
      "Epoch 54/100\n",
      "79/79 [==============================] - 0s 2ms/step - loss: 1.0452e-04 - val_loss: 0.0016\n",
      "Epoch 55/100\n",
      "79/79 [==============================] - 0s 2ms/step - loss: 9.2407e-05 - val_loss: 0.0014\n",
      "Epoch 56/100\n",
      "79/79 [==============================] - 0s 1ms/step - loss: 1.0316e-04 - val_loss: 0.0018\n",
      "Epoch 57/100\n",
      "79/79 [==============================] - 0s 2ms/step - loss: 1.0060e-04 - val_loss: 0.0015\n",
      "Epoch 58/100\n",
      "79/79 [==============================] - 0s 2ms/step - loss: 9.3608e-05 - val_loss: 0.0015\n",
      "Epoch 59/100\n",
      "79/79 [==============================] - 0s 2ms/step - loss: 9.9280e-05 - val_loss: 0.0016\n",
      "Epoch 60/100\n",
      "79/79 [==============================] - 0s 2ms/step - loss: 8.1880e-05 - val_loss: 0.0014\n",
      "Epoch 61/100\n",
      "79/79 [==============================] - 0s 2ms/step - loss: 8.5939e-05 - val_loss: 0.0020\n",
      "Epoch 62/100\n",
      "79/79 [==============================] - 0s 1ms/step - loss: 1.1401e-04 - val_loss: 0.0014\n",
      "Epoch 63/100\n",
      "79/79 [==============================] - 0s 2ms/step - loss: 9.4198e-05 - val_loss: 0.0016\n",
      "Epoch 64/100\n",
      "79/79 [==============================] - 0s 2ms/step - loss: 9.8394e-05 - val_loss: 0.0015\n",
      "Epoch 65/100\n",
      "79/79 [==============================] - 0s 1ms/step - loss: 9.0439e-05 - val_loss: 0.0014\n",
      "Epoch 66/100\n",
      "79/79 [==============================] - 0s 2ms/step - loss: 8.3997e-05 - val_loss: 0.0016\n",
      "Epoch 67/100\n",
      "79/79 [==============================] - 0s 2ms/step - loss: 1.1122e-04 - val_loss: 0.0017\n",
      "Epoch 68/100\n",
      "79/79 [==============================] - 0s 2ms/step - loss: 1.0294e-04 - val_loss: 0.0017\n",
      "Epoch 69/100\n",
      "79/79 [==============================] - 0s 1ms/step - loss: 9.4335e-05 - val_loss: 0.0014\n",
      "Epoch 70/100\n",
      "79/79 [==============================] - 0s 1ms/step - loss: 8.1838e-05 - val_loss: 0.0014\n",
      "Epoch 71/100\n",
      "79/79 [==============================] - 0s 1ms/step - loss: 8.4012e-05 - val_loss: 0.0013\n",
      "Epoch 72/100\n",
      "79/79 [==============================] - 0s 2ms/step - loss: 9.0449e-05 - val_loss: 0.0012\n",
      "Epoch 73/100\n",
      "79/79 [==============================] - 0s 2ms/step - loss: 8.3382e-05 - val_loss: 0.0014\n",
      "Epoch 74/100\n",
      "79/79 [==============================] - 0s 1ms/step - loss: 1.0525e-04 - val_loss: 0.0015\n",
      "Epoch 75/100\n",
      "79/79 [==============================] - 0s 1ms/step - loss: 9.2884e-05 - val_loss: 0.0013\n",
      "Epoch 76/100\n",
      "79/79 [==============================] - 0s 2ms/step - loss: 1.0015e-04 - val_loss: 0.0013\n",
      "Epoch 77/100\n",
      "79/79 [==============================] - 0s 2ms/step - loss: 8.7534e-05 - val_loss: 0.0015\n",
      "Epoch 78/100\n",
      "79/79 [==============================] - 0s 2ms/step - loss: 8.9315e-05 - val_loss: 0.0013\n",
      "Epoch 79/100\n",
      "79/79 [==============================] - 0s 1ms/step - loss: 1.0175e-04 - val_loss: 0.0012\n",
      "Epoch 80/100\n",
      "79/79 [==============================] - 0s 2ms/step - loss: 9.4822e-05 - val_loss: 0.0016\n",
      "Epoch 81/100\n",
      "79/79 [==============================] - 0s 2ms/step - loss: 1.0207e-04 - val_loss: 9.0166e-04\n",
      "Epoch 82/100\n",
      "79/79 [==============================] - 0s 1ms/step - loss: 1.1761e-04 - val_loss: 0.0013\n",
      "Epoch 83/100\n",
      "79/79 [==============================] - 0s 2ms/step - loss: 8.1583e-05 - val_loss: 0.0012\n",
      "Epoch 84/100\n",
      "79/79 [==============================] - 0s 1ms/step - loss: 9.3772e-05 - val_loss: 0.0013\n",
      "Epoch 85/100\n",
      "79/79 [==============================] - 0s 2ms/step - loss: 8.1064e-05 - val_loss: 0.0016\n",
      "Epoch 86/100\n",
      "79/79 [==============================] - 0s 2ms/step - loss: 7.9388e-05 - val_loss: 9.5220e-04\n",
      "Epoch 87/100\n",
      "79/79 [==============================] - 0s 2ms/step - loss: 9.1082e-05 - val_loss: 0.0011\n",
      "Epoch 88/100\n",
      "79/79 [==============================] - 0s 2ms/step - loss: 8.3571e-05 - val_loss: 0.0013\n",
      "Epoch 89/100\n",
      "79/79 [==============================] - 0s 2ms/step - loss: 8.8316e-05 - val_loss: 0.0013\n",
      "Epoch 90/100\n",
      "79/79 [==============================] - 0s 2ms/step - loss: 1.0102e-04 - val_loss: 0.0013\n",
      "Epoch 91/100\n",
      "79/79 [==============================] - 0s 1ms/step - loss: 8.5406e-05 - val_loss: 0.0012\n",
      "Epoch 92/100\n",
      "79/79 [==============================] - 0s 2ms/step - loss: 9.9251e-05 - val_loss: 0.0016\n",
      "Epoch 93/100\n",
      "79/79 [==============================] - 0s 2ms/step - loss: 1.0057e-04 - val_loss: 0.0011\n",
      "Epoch 94/100\n",
      "79/79 [==============================] - 0s 2ms/step - loss: 9.2683e-05 - val_loss: 0.0012\n",
      "Epoch 95/100\n",
      "79/79 [==============================] - 0s 2ms/step - loss: 8.6606e-05 - val_loss: 0.0015\n",
      "Epoch 96/100\n",
      "79/79 [==============================] - 0s 2ms/step - loss: 9.2451e-05 - val_loss: 0.0014\n",
      "Epoch 97/100\n",
      "79/79 [==============================] - 0s 2ms/step - loss: 1.0594e-04 - val_loss: 0.0011\n",
      "Epoch 98/100\n",
      "79/79 [==============================] - 0s 3ms/step - loss: 7.9491e-05 - val_loss: 0.0014\n",
      "Epoch 99/100\n",
      "79/79 [==============================] - 0s 2ms/step - loss: 1.0312e-04 - val_loss: 0.0015\n",
      "Epoch 100/100\n",
      "79/79 [==============================] - 0s 2ms/step - loss: 1.0062e-04 - val_loss: 0.0012\n"
     ]
    },
    {
     "data": {
      "text/plain": [
       "<keras.callbacks.History at 0x1731d95e0>"
      ]
     },
     "execution_count": 51,
     "metadata": {},
     "output_type": "execute_result"
    }
   ],
   "source": [
    "model = Sequential()\n",
    "model.add(LSTM(4, input_shape=(Xtrain.shape[1], Xtrain.shape[2])))\n",
    "model.add(Dense(1))\n",
    "model.compile(loss=\"mean_squared_error\", optimizer=\"adam\")\n",
    "model.fit(\n",
    "    Xtrain, ytrain, epochs=100, validation_data=(Xtest, ytest), batch_size=16, verbose=1\n",
    ")"
   ]
  },
  {
   "cell_type": "code",
   "execution_count": 52,
   "metadata": {},
   "outputs": [
    {
     "name": "stdout",
     "output_type": "stream",
     "text": [
      "Model: \"sequential\"\n",
      "_________________________________________________________________\n",
      "Layer (type)                 Output Shape              Param #   \n",
      "=================================================================\n",
      "lstm (LSTM)                  (None, 4)                 112       \n",
      "_________________________________________________________________\n",
      "dense (Dense)                (None, 1)                 5         \n",
      "=================================================================\n",
      "Total params: 117\n",
      "Trainable params: 117\n",
      "Non-trainable params: 0\n",
      "_________________________________________________________________\n"
     ]
    }
   ],
   "source": [
    "model.summary()"
   ]
  },
  {
   "cell_type": "code",
   "execution_count": 53,
   "metadata": {},
   "outputs": [],
   "source": [
    "model.save('model.h5')"
   ]
  }
 ],
 "metadata": {
  "interpreter": {
   "hash": "aee8b7b246df8f9039afb4144a1f6fd8d2ca17a180786b69acc140d282b71a49"
  },
  "kernelspec": {
   "display_name": "Python 3 (ipykernel)",
   "language": "python",
   "name": "python3"
  },
  "language_info": {
   "codemirror_mode": {
    "name": "ipython",
    "version": 3
   },
   "file_extension": ".py",
   "mimetype": "text/x-python",
   "name": "python",
   "nbconvert_exporter": "python",
   "pygments_lexer": "ipython3",
   "version": "3.9.12"
  }
 },
 "nbformat": 4,
 "nbformat_minor": 4
}
